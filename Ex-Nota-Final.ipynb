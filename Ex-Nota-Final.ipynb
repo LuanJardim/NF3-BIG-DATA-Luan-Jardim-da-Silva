{
  "nbformat": 4,
  "nbformat_minor": 0,
  "metadata": {
    "colab": {
      "provenance": []
    },
    "kernelspec": {
      "name": "python3",
      "display_name": "Python 3"
    },
    "language_info": {
      "name": "python"
    }
  },
  "cells": [
    {
      "cell_type": "markdown",
      "source": [
        "\n",
        "\n",
        "##### **QUESTÃO 01**\n",
        "\n"
      ],
      "metadata": {
        "id": "XnFJP7HrPaqR"
      }
    },
    {
      "cell_type": "markdown",
      "source": [
        "*Obs.: Para o funcionamento dos códigos apresentados, é necessário que o arquivo \"world_alcohol.csv\" esteja localizado no diretório principal. Certifique-se de que o arquivo esteja presente antes de executar o código."
      ],
      "metadata": {
        "id": "6fEUsFmpPsPu"
      }
    },
    {
      "cell_type": "markdown",
      "source": [
        "Letra A\n",
        "\n",
        "*   Agrupando os dados da tabela por tipo de bebidas\n",
        "\n",
        "\n"
      ],
      "metadata": {
        "id": "jdrNNCtpcz-_"
      }
    },
    {
      "cell_type": "code",
      "execution_count": null,
      "metadata": {
        "id": "IJ5sW2nfOB-X"
      },
      "outputs": [],
      "source": [
        "import pandas as pd\n",
        "\n",
        "arquivoDados = pd.read_csv('/content/world_alcohol.csv')\n",
        "\n",
        "agrupaDados = arquivoDados.groupby('Beverage Types').size().reset_index(name='Count')\n",
        "\n",
        "print(agrupaDados)"
      ]
    },
    {
      "cell_type": "markdown",
      "source": [
        "Letra B\n",
        "\n",
        "\n",
        "*   Agrupando os dados da tabela por Região e por Ano\n",
        "\n",
        "\n"
      ],
      "metadata": {
        "id": "xsK2DhFSc9ck"
      }
    },
    {
      "cell_type": "code",
      "source": [
        "import pandas as pd\n",
        "\n",
        "arquivoDados = pd.read_csv('/content/world_alcohol.csv')\n",
        "\n",
        "agrupaDados = arquivoDados.groupby(['WHO region', 'Year']).size().reset_index(name='Count')\n",
        "\n",
        "print(agrupaDados)"
      ],
      "metadata": {
        "id": "8F3yIoFVcyy9"
      },
      "execution_count": null,
      "outputs": []
    },
    {
      "cell_type": "markdown",
      "source": [
        "Letra C\n",
        "\n",
        "*   Contando a ocorrência de regiões, de países e a soma da coluna de valores por Bebida.\n",
        "\n"
      ],
      "metadata": {
        "id": "YyFDPLuvdB4G"
      }
    },
    {
      "cell_type": "code",
      "source": [
        "import pandas as pd\n",
        "\n",
        "arquivoDados = pd.read_csv('/content/world_alcohol.csv')\n",
        "\n",
        "contagemRegiao = arquivoDados['WHO region'].value_counts().reset_index().rename(columns={'index': 'Região', 'WHO region': 'Count'})\n",
        "\n",
        "contagemPais = arquivoDados['Country'].value_counts().reset_index().rename(columns={'index': 'País', 'Country': 'Count'})\n",
        "\n",
        "somaValoresBebidas = arquivoDados.groupby('Beverage Types')['Display Value'].sum().reset_index()\n",
        "\n",
        "print(\"Contagem de Regiões:\")\n",
        "print(contagemRegiao)\n",
        "\n",
        "print(\"\\nContagem de Países:\")\n",
        "print(contagemPais)\n",
        "\n",
        "print(\"\\nSoma da coluna de valores por Bebida:\")\n",
        "print(somaValoresBebidas)\n"
      ],
      "metadata": {
        "id": "-k7MoPQMczWU"
      },
      "execution_count": null,
      "outputs": []
    },
    {
      "cell_type": "markdown",
      "source": [
        "Letra D\n",
        "\n",
        "*   Realizando as análises estatísticas da coluna dos valores: média, moda, mediana, estatística\n",
        "descritiva e gráfico de comparação dos valores agrupados por tipo de bebida.\n"
      ],
      "metadata": {
        "id": "_5dL4njXf7Uc"
      }
    },
    {
      "cell_type": "code",
      "source": [
        "import pandas as pd\n",
        "import matplotlib.pyplot as plt\n",
        "\n",
        "\n",
        "arquivoDados = pd.read_csv('/content/world_alcohol.csv')\n",
        "\n",
        "\n",
        "# Calculando a média\n",
        "media = arquivoDados['Display Value'].mean()\n",
        "\n",
        "# Calculando a moda\n",
        "moda = arquivoDados['Display Value'].mode()[0]\n",
        "\n",
        "# Calculando a mediana\n",
        "mediana = arquivoDados['Display Value'].median()\n",
        "\n",
        "# Calculando as estatísticas descritivas\n",
        "estatisticas = arquivoDados['Display Value'].describe()\n",
        "\n",
        "# Imprimindo as estatísticas descritivas da coluna dos valores\n",
        "print(\"Estatísticas Descritivas:\")\n",
        "print(estatisticas)\n",
        "print(\"\")\n",
        "\n",
        "# Imprimindo a média, moda e mediana da coluna dos valores\n",
        "print(\"Média:\", media)\n",
        "print(\"Moda:\", moda)\n",
        "print(\"Mediana:\", mediana)\n",
        "print(\"\")\n",
        "\n",
        "# Agrupando os valores por tipo de bebida\n",
        "agrupaBebida = arquivoDados.groupby('Beverage Types')['Display Value'].mean()\n",
        "\n",
        "# Criando o gráfico de comparação\n",
        "agrupaBebida.plot(kind='bar')\n",
        "plt.xlabel('Tipo de Bebida')\n",
        "plt.ylabel('Média dos Valores')\n",
        "plt.title('Média dos Valores Agrupados por Tipo de Bebida')\n",
        "plt.show()\n"
      ],
      "metadata": {
        "id": "tVyhnt0Bf7jZ"
      },
      "execution_count": null,
      "outputs": []
    },
    {
      "cell_type": "markdown",
      "source": [
        "Letra E\n",
        "\n",
        "*   Mostrando os resultados de acordo com os seguintes critérios:"
      ],
      "metadata": {
        "id": "2E6Rx2Cff8BF"
      }
    },
    {
      "cell_type": "markdown",
      "source": [
        ">>  I - Mostrando a coluna de bebidas do ano de 1985\n",
        "\n"
      ],
      "metadata": {
        "id": "GTnWL4KYf8WW"
      }
    },
    {
      "cell_type": "code",
      "source": [
        "import pandas as pd\n",
        "\n",
        "arquivoDados = pd.read_csv('/content/world_alcohol.csv')\n",
        "\n",
        "# Filtrando os dados para o ano de 1985\n",
        "dadoFiltrado = arquivoDados[arquivoDados['Year'] == 1985]\n",
        "\n",
        "# Extraindo a coluna \"Beverage Types\"\n",
        "colunaBebidas = dadoFiltrado['Beverage Types']\n",
        "\n",
        "# Exibindo a coluna \"Beverage Types\" para o ano de 1985\n",
        "print(colunaBebidas)\n"
      ],
      "metadata": {
        "id": "CGFqvH0Hf8NS"
      },
      "execution_count": null,
      "outputs": []
    },
    {
      "cell_type": "markdown",
      "source": [
        ">> II - Mostrando a coluna de região com valores acima de 4."
      ],
      "metadata": {
        "id": "KB6uMLLsf8ou"
      }
    },
    {
      "cell_type": "code",
      "source": [
        "import pandas as pd\n",
        "\n",
        "arquivoDados = pd.read_csv('/content/world_alcohol.csv')\n",
        "\n",
        "# Filtrando os dados com valores de \"WHO region\" com comprimento superior a 4 caracteres\n",
        "regiaoFiltrada = arquivoDados[arquivoDados['WHO region'].str.len() > 4]['WHO region']\n",
        "\n",
        "# Exibindo a coluna \"WHO region\" com valores acima de 4 caracteres\n",
        "print(regiaoFiltrada)\n"
      ],
      "metadata": {
        "id": "30Sa2yk6f8gu"
      },
      "execution_count": null,
      "outputs": []
    },
    {
      "cell_type": "markdown",
      "source": [
        "##### **QUESTÃO 02**"
      ],
      "metadata": {
        "id": "zFux_PSYLHH1"
      }
    },
    {
      "cell_type": "markdown",
      "source": [
        "Letra A\n",
        "\n",
        "*   Efetuando a limpeza das colunas de notas: onde tiver NaN (Not a Number), substituindo por 0,0\n",
        "\n"
      ],
      "metadata": {
        "id": "CCxoQ0ryLHwg"
      }
    },
    {
      "cell_type": "code",
      "source": [
        "import pandas as pd\n",
        "\n",
        "url = 'https://github.com/LuanJardim/DatasetProuni/raw/f9953a8fa7ce649b13ace3201f143250bbb3ce7a/cursos-prouni.csv'\n",
        "\n",
        "tabela = pd.read_csv(url)\n",
        "\n",
        "# Substituindo todos os \"NaN\" por 0.0 nas colunas de notas\n",
        "colunasNotas = ['nota_integral_ampla', 'nota_integral_cotas', 'nota_parcial_ampla', 'nota_parcial_cotas']\n",
        "tabela[colunasNotas] = tabela[colunasNotas].fillna(0.0)\n",
        "\n",
        "print(tabela)\n"
      ],
      "metadata": {
        "id": "ooyRBk8cLIzj"
      },
      "execution_count": null,
      "outputs": []
    },
    {
      "cell_type": "markdown",
      "source": [
        "Letra B\n",
        "\n",
        "*   Agrupando os dados pelo grau\n",
        "\n",
        "\n"
      ],
      "metadata": {
        "id": "Ze9gak8rLO11"
      }
    },
    {
      "cell_type": "code",
      "source": [
        "import pandas as pd\n",
        "\n",
        "url = 'https://github.com/LuanJardim/DatasetProuni/raw/f9953a8fa7ce649b13ace3201f143250bbb3ce7a/cursos-prouni.csv'\n",
        "\n",
        "tabela = pd.read_csv(url)\n",
        "\n",
        "# Agrupando os dados pelo grau\n",
        "grupoGrau = tabela.groupby('grau')\n",
        "\n",
        "# Exibindo os dados\n",
        "for nomeGrupo, grupo in grupoGrau:\n",
        "    print(f\"Grau: {nomeGrupo}\")\n",
        "    print(grupo)\n",
        "\n"
      ],
      "metadata": {
        "id": "gxL8BLLKLPKS"
      },
      "execution_count": null,
      "outputs": []
    },
    {
      "cell_type": "markdown",
      "source": [
        "Letra C\n",
        "\n",
        "*   Agrupando os dados pelos cursos de matemática, medicina e pedagogia"
      ],
      "metadata": {
        "id": "uk1pkVAPLQEY"
      }
    },
    {
      "cell_type": "code",
      "source": [
        "import pandas as pd\n",
        "\n",
        "url = 'https://github.com/LuanJardim/DatasetProuni/raw/f9953a8fa7ce649b13ace3201f143250bbb3ce7a/cursos-prouni.csv'\n",
        "\n",
        "tabela = pd.read_csv(url)\n",
        "\n",
        "# Filtrando os registros pelos cursos de Matemática, Medicina e Pedagogia\n",
        "cursoInteresse = ['Matemática', 'Medicina', 'Pedagogia']\n",
        "tabelaFiltrada = tabela[tabela['curso_busca'].isin(cursoInteresse)]\n",
        "\n",
        "# Agrupando os dados pelos cursos\n",
        "grupoCurso = tabelaFiltrada.groupby('curso_busca')\n",
        "\n",
        "# Exibindo os dados\n",
        "for nomeGrupo, grupo in grupoCurso:\n",
        "    print(f\"Curso: {nomeGrupo}\")\n",
        "    print(grupo)\n"
      ],
      "metadata": {
        "id": "a8hgDsbWLQWh"
      },
      "execution_count": null,
      "outputs": []
    },
    {
      "cell_type": "markdown",
      "source": [
        "Letra D\n",
        "\n",
        "*   Agrupando os dados por Estado e obtenha a média de notas de corte por Estado."
      ],
      "metadata": {
        "id": "kooLj-vdLQot"
      }
    },
    {
      "cell_type": "code",
      "source": [
        "import pandas as pd\n",
        "\n",
        "url = 'https://github.com/LuanJardim/DatasetProuni/raw/f9953a8fa7ce649b13ace3201f143250bbb3ce7a/cursos-prouni.csv'\n",
        "\n",
        "tabela = pd.read_csv(url)\n",
        "\n",
        "# Substituindo todos os \"NaN\" por 0.0 nas colunas de notas\n",
        "colunaNotas = ['nota_integral_ampla', 'nota_integral_cotas', 'nota_parcial_ampla', 'nota_parcial_cotas']\n",
        "tabela[colunaNotas] = tabela[colunaNotas].fillna(0.0)\n",
        "\n",
        "# Agrupando os dados por Estado e calculando a média das notas de corte\n",
        "mediaNotasEstado = tabela.groupby('uf_busca')[colunaNotas].mean()\n",
        "\n",
        "# Exibindo a média das notas de corte por Estado\n",
        "print(mediaNotasEstado)\n"
      ],
      "metadata": {
        "id": "AS8glKfpLRCR"
      },
      "execution_count": null,
      "outputs": []
    },
    {
      "cell_type": "markdown",
      "source": [
        "  Letra E\n",
        "\n",
        "*  Agrupando os dados pelos cursos Tecnológicos\n"
      ],
      "metadata": {
        "id": "OONDU1NiLRVx"
      }
    },
    {
      "cell_type": "code",
      "source": [
        "import pandas as pd\n",
        "\n",
        "url = 'https://github.com/LuanJardim/DatasetProuni/raw/f9953a8fa7ce649b13ace3201f143250bbb3ce7a/cursos-prouni.csv'\n",
        "\n",
        "tabela = pd.read_csv(url)\n",
        "\n",
        "# Filtrando os registros pelos cursos tecnológicos\n",
        "tabelaTecnologicos = tabela[tabela['grau'] == 'Tecnológico']\n",
        "\n",
        "# Agrupando os dados pelos cursos tecnológicos\n",
        "grupoTecnologicos = tabelaTecnologicos.groupby('curso_busca')\n",
        "\n",
        "# Exibindo os dados\n",
        "for nomeGrupo, grupo in grupoTecnologicos:\n",
        "    print(f\"Curso Tecnológico: {nomeGrupo}\")\n",
        "    print(grupo)"
      ],
      "metadata": {
        "id": "IpHhdYl5LRtn"
      },
      "execution_count": null,
      "outputs": []
    },
    {
      "cell_type": "markdown",
      "source": [
        "Letra F\n",
        "\n",
        "*   Eliminando a coluna “cidade_filtro” do dataframe"
      ],
      "metadata": {
        "id": "P7x0nwj4LR_8"
      }
    },
    {
      "cell_type": "code",
      "source": [
        "import pandas as pd\n",
        "\n",
        "url = 'https://github.com/LuanJardim/DatasetProuni/raw/f9953a8fa7ce649b13ace3201f143250bbb3ce7a/cursos-prouni.csv'\n",
        "\n",
        "tabela = pd.read_csv(url)\n",
        "\n",
        "# Eliminando a coluna \"cidade_filtro\" do DataFrame\n",
        "tabela = tabela.drop('cidade_filtro', axis=1)\n",
        "\n",
        "# Exibindo o DataFrame atualizado (sem o campo \"cidade_filtro\")\n",
        "print(tabela)\n"
      ],
      "metadata": {
        "id": "Pd9qqbPxLSUx"
      },
      "execution_count": null,
      "outputs": []
    },
    {
      "cell_type": "markdown",
      "source": [
        "Letra G\n",
        "\n",
        "*   Apresentando a média das mensalidades dos cursos de Medicina"
      ],
      "metadata": {
        "id": "TE8rjsO0LSmw"
      }
    },
    {
      "cell_type": "code",
      "source": [
        "import pandas as pd\n",
        "\n",
        "url = 'https://github.com/LuanJardim/DatasetProuni/raw/f9953a8fa7ce649b13ace3201f143250bbb3ce7a/cursos-prouni.csv'\n",
        "\n",
        "tabela = pd.read_csv(url)\n",
        "\n",
        "# Filtrando os registros pelo curso de Medicina\n",
        "tabelaMedicina = tabela[tabela['curso_busca'] == 'Medicina']\n",
        "\n",
        "# Calculando a média das mensalidades dos cursos de Medicina\n",
        "mediaMensalidadeMedicina = tabelaMedicina['mensalidade'].mean()\n",
        "\n",
        "# Exibindo a média das mensalidades dos cursos de Medicina\n",
        "print(f\"Média das mensalidades dos cursos de Medicina: R$ {mediaMensalidadeMedicina:.2f}\")\n"
      ],
      "metadata": {
        "id": "8u6HzkfpLS5f"
      },
      "execution_count": null,
      "outputs": []
    },
    {
      "cell_type": "markdown",
      "source": [
        "Letra H\n",
        "\n",
        "*   Calculando a média das notas de corte dos cursos de tempo integral"
      ],
      "metadata": {
        "id": "ic5PEMIYLTLe"
      }
    },
    {
      "cell_type": "code",
      "source": [
        "import pandas as pd\n",
        "\n",
        "url = 'https://github.com/LuanJardim/DatasetProuni/raw/f9953a8fa7ce649b13ace3201f143250bbb3ce7a/cursos-prouni.csv'\n",
        "\n",
        "tabela = pd.read_csv(url)\n",
        "\n",
        "# Substituindo todos os \"NaN\" por 0.0 nas colunas de notas\n",
        "colunaNotas = ['nota_integral_ampla', 'nota_integral_cotas']\n",
        "tabela[colunaNotas] = tabela[colunaNotas].fillna(0.0)\n",
        "\n",
        "# Filtrando os registros pelos cursos de tempo integral\n",
        "tabelaTempoIntegral = tabela[tabela['turno'] == 'Integral']\n",
        "\n",
        "# Calculaando a média das notas de corte dos cursos de tempo integral\n",
        "mediaNotaTempoIntegral = tabelaTempoIntegral[colunaNotas].mean()\n",
        "\n",
        "# Exibindo a média das notas de corte dos cursos de tempo integral\n",
        "print(\"Média das notas de corte dos cursos de tempo integral:\")\n",
        "print(mediaNotaTempoIntegral)"
      ],
      "metadata": {
        "id": "b_s9SA9sLTnW"
      },
      "execution_count": null,
      "outputs": []
    },
    {
      "cell_type": "markdown",
      "source": [
        "Letra I\n",
        "\n",
        "*   Estatística Descritiva das Notas Integral Ampla dos cursos de Bacharelado\n"
      ],
      "metadata": {
        "id": "3ZU78H3ZLT-E"
      }
    },
    {
      "cell_type": "code",
      "source": [
        "import pandas as pd\n",
        "\n",
        "url = 'https://github.com/LuanJardim/DatasetProuni/raw/f9953a8fa7ce649b13ace3201f143250bbb3ce7a/cursos-prouni.csv'\n",
        "\n",
        "tabela = pd.read_csv(url)\n",
        "\n",
        "# Substituindo todos os \"NaN\" por 0.0 nas colunas de notas\n",
        "colunaNotas = ['nota_integral_ampla']\n",
        "tabela[colunaNotas] = tabela[colunaNotas].fillna(0.0)\n",
        "\n",
        "# Filtrando os registros pelos cursos de bacharelado\n",
        "tabelaBacharelado = tabela[tabela['grau'] == 'Bacharelado']\n",
        "\n",
        "# Obtendo as estatísticas descritivas das notas integral ampla dos cursos de bacharelado\n",
        "estatisticasDescritivas = tabelaBacharelado['nota_integral_ampla'].describe()\n",
        "\n",
        "# Exibindo as estatísticas descritivas\n",
        "print(\"Estatísticas descritivas das notas integral ampla dos cursos de bacharelado:\")\n",
        "print(estatisticasDescritivas)\n"
      ],
      "metadata": {
        "id": "Wct9i80ILUVG"
      },
      "execution_count": null,
      "outputs": []
    },
    {
      "cell_type": "markdown",
      "source": [
        "Letra J\n",
        "\n",
        "*   Gráfico comparativo entre o grau dos cursos\n",
        "pelas Notas Integral de Cotas."
      ],
      "metadata": {
        "id": "aCbSEDezLPfh"
      }
    },
    {
      "cell_type": "code",
      "source": [
        "import pandas as pd\n",
        "import matplotlib.pyplot as plt\n",
        "\n",
        "url = 'https://github.com/LuanJardim/DatasetProuni/raw/f9953a8fa7ce649b13ace3201f143250bbb3ce7a/cursos-prouni.csv'\n",
        "\n",
        "tabela = pd.read_csv(url)\n",
        "\n",
        "# Substituindo todos os \"NaN\" por 0.0 nas colunas de notas\n",
        "colunaNotas = ['nota_integral_cotas']\n",
        "tabela[colunaNotas] = tabela[colunaNotas].fillna(0.0)\n",
        "\n",
        "# Agrupando os dados pelo grau dos cursos e calculando a média das notas de cotas (integral)\n",
        "grau = tabela.groupby('grau')['nota_integral_cotas'].mean()\n",
        "\n",
        "# Criando o gráfico de barras comparativo\n",
        "plt.figure(figsize=(10, 6))\n",
        "grau.plot(kind='bar', color='blue')\n",
        "plt.title('Média das Notas Integral de Cotas por Grau dos Cursos')\n",
        "plt.xlabel('Grau dos Cursos')\n",
        "plt.ylabel('Média das Notas Integral de Cotas')\n",
        "plt.xticks(rotation=45)\n",
        "plt.show()\n"
      ],
      "metadata": {
        "id": "5nXYL6b4LPy2"
      },
      "execution_count": null,
      "outputs": []
    }
  ]
}