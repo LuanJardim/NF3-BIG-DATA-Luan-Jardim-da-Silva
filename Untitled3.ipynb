{
  "nbformat": 4,
  "nbformat_minor": 0,
  "metadata": {
    "colab": {
      "provenance": []
    },
    "kernelspec": {
      "name": "python3",
      "display_name": "Python 3"
    },
    "language_info": {
      "name": "python"
    }
  },
  "cells": [
    {
      "cell_type": "markdown",
      "source": [
        "\n",
        "\n",
        "##### **QUESTÃO 01**\n",
        "\n"
      ],
      "metadata": {
        "id": "XnFJP7HrPaqR"
      }
    },
    {
      "cell_type": "markdown",
      "source": [
        "*Obs.: Para o funcionamento dos códigos apresentados, é necessário que o arquivo \"world_alcohol.csv\" esteja localizado no diretório principal. Certifique-se de que o arquivo esteja presente antes de executar o código."
      ],
      "metadata": {
        "id": "6fEUsFmpPsPu"
      }
    },
    {
      "cell_type": "markdown",
      "source": [
        "Letra A\n",
        "\n",
        "*   Agrupando os dados da tabela por tipo de bebidas\n",
        "\n",
        "\n"
      ],
      "metadata": {
        "id": "jdrNNCtpcz-_"
      }
    },
    {
      "cell_type": "code",
      "execution_count": null,
      "metadata": {
        "id": "IJ5sW2nfOB-X"
      },
      "outputs": [],
      "source": [
        "import pandas as pd\n",
        "\n",
        "arquivoDados = pd.read_csv('/content/world_alcohol.csv')\n",
        "\n",
        "agrupaDados = arquivoDados.groupby('Beverage Types').size().reset_index(name='Count')\n",
        "\n",
        "print(agrupaDados)"
      ]
    },
    {
      "cell_type": "markdown",
      "source": [
        "Letra B\n",
        "\n",
        "\n",
        "*   Agrupando os dados da tabela por Região e por Ano\n",
        "\n",
        "\n"
      ],
      "metadata": {
        "id": "xsK2DhFSc9ck"
      }
    },
    {
      "cell_type": "code",
      "source": [
        "import pandas as pd\n",
        "\n",
        "arquivoDados = pd.read_csv('/content/world_alcohol.csv')\n",
        "\n",
        "agrupaDados = arquivoDados.groupby(['WHO region', 'Year']).size().reset_index(name='Count')\n",
        "\n",
        "print(agrupaDados)"
      ],
      "metadata": {
        "id": "8F3yIoFVcyy9"
      },
      "execution_count": null,
      "outputs": []
    },
    {
      "cell_type": "markdown",
      "source": [
        "Letra C\n",
        "\n",
        "*   Contando a ocorrência de regiões, de países e a soma da coluna de valores por Bebida.\n",
        "\n"
      ],
      "metadata": {
        "id": "YyFDPLuvdB4G"
      }
    },
    {
      "cell_type": "code",
      "source": [
        "import pandas as pd\n",
        "\n",
        "arquivoDados = pd.read_csv('/content/world_alcohol.csv')\n",
        "\n",
        "contagemRegiao = arquivoDados['WHO region'].value_counts().reset_index().rename(columns={'index': 'Região', 'WHO region': 'Count'})\n",
        "\n",
        "contagemPais = arquivoDados['Country'].value_counts().reset_index().rename(columns={'index': 'País', 'Country': 'Count'})\n",
        "\n",
        "somaValoresBebidas = arquivoDados.groupby('Beverage Types')['Display Value'].sum().reset_index()\n",
        "\n",
        "print(\"Contagem de Regiões:\")\n",
        "print(contagemRegiao)\n",
        "\n",
        "print(\"\\nContagem de Países:\")\n",
        "print(contagemPais)\n",
        "\n",
        "print(\"\\nSoma da coluna de valores por Bebida:\")\n",
        "print(somaValoresBebidas)\n"
      ],
      "metadata": {
        "id": "-k7MoPQMczWU"
      },
      "execution_count": null,
      "outputs": []
    },
    {
      "cell_type": "markdown",
      "source": [
        "Letra D\n",
        "\n",
        "*   Realizando as análises estatísticas da coluna dos valores: média, moda, mediana, estatística\n",
        "descritiva e gráfico de comparação dos valores agrupados por tipo de bebida.\n"
      ],
      "metadata": {
        "id": "_5dL4njXf7Uc"
      }
    },
    {
      "cell_type": "code",
      "source": [
        "import pandas as pd\n",
        "import matplotlib.pyplot as plt\n",
        "\n",
        "\n",
        "arquivoDados = pd.read_csv('/content/world_alcohol.csv')\n",
        "\n",
        "\n",
        "# Calculando a média\n",
        "media = arquivoDados['Display Value'].mean()\n",
        "\n",
        "# Calculando a moda\n",
        "moda = arquivoDados['Display Value'].mode()[0]\n",
        "\n",
        "# Calculando a mediana\n",
        "mediana = arquivoDados['Display Value'].median()\n",
        "\n",
        "# Calculando as estatísticas descritivas\n",
        "estatisticas = arquivoDados['Display Value'].describe()\n",
        "\n",
        "# Imprimindo as estatísticas descritivas da coluna dos valores\n",
        "print(\"Estatísticas Descritivas:\")\n",
        "print(estatisticas)\n",
        "print(\"\")\n",
        "\n",
        "# Imprimindo a média, moda e mediana da coluna dos valores\n",
        "print(\"Média:\", media)\n",
        "print(\"Moda:\", moda)\n",
        "print(\"Mediana:\", mediana)\n",
        "print(\"\")\n",
        "\n",
        "# Agrupando os valores por tipo de bebida\n",
        "agrupaBebida = arquivoDados.groupby('Beverage Types')['Display Value'].mean()\n",
        "\n",
        "# Criando o gráfico de comparação\n",
        "agrupaBebida.plot(kind='bar')\n",
        "plt.xlabel('Tipo de Bebida')\n",
        "plt.ylabel('Média dos Valores')\n",
        "plt.title('Média dos Valores Agrupados por Tipo de Bebida')\n",
        "plt.show()\n"
      ],
      "metadata": {
        "id": "tVyhnt0Bf7jZ",
        "colab": {
          "base_uri": "https://localhost:8080/",
          "height": 762
        },
        "outputId": "802476d5-5fcc-48eb-a3a3-599f840137fc"
      },
      "execution_count": 36,
      "outputs": [
        {
          "output_type": "stream",
          "name": "stdout",
          "text": [
            "Estatísticas Descritivas:\n",
            "count    95.000000\n",
            "mean      1.103053\n",
            "std       1.642623\n",
            "min       0.000000\n",
            "25%       0.000000\n",
            "50%       0.190000\n",
            "75%       1.820000\n",
            "max       7.380000\n",
            "Name: Display Value, dtype: float64\n",
            "\n",
            "Média: 1.1030526315789473\n",
            "Moda: 0.0\n",
            "Mediana: 0.19\n",
            "\n"
          ]
        },
        {
          "output_type": "display_data",
          "data": {
            "text/plain": [
              "<Figure size 640x480 with 1 Axes>"
            ],
            "image/png": "[encoded data removed]"
          },
          "metadata": {}
        }
      ]
    },
    {
      "cell_type": "markdown",
      "source": [
        "Letra E\n",
        "\n",
        "*   Mostrando os resultados de acordo com os seguintes critérios:"
      ],
      "metadata": {
        "id": "2E6Rx2Cff8BF"
      }
    },
    {
      "cell_type": "markdown",
      "source": [
        ">>  I - Mostrando a coluna de bebidas do ano de 1985\n",
        "\n"
      ],
      "metadata": {
        "id": "GTnWL4KYf8WW"
      }
    },
    {
      "cell_type": "code",
      "source": [
        "import pandas as pd\n",
        "\n",
        "arquivoDados = pd.read_csv('/content/world_alcohol.csv')\n",
        "\n",
        "# Filtrando os dados para o ano de 1985\n",
        "dadoFiltrado = arquivoDados[arquivoDados['Year'] == 1985]\n",
        "\n",
        "# Extraindo a coluna \"Beverage Types\"\n",
        "colunaBebidas = dadoFiltrado['Beverage Types']\n",
        "\n",
        "# Exibindo a coluna \"Beverage Types\" para o ano de 1985\n",
        "print(colunaBebidas)\n"
      ],
      "metadata": {
        "id": "CGFqvH0Hf8NS"
      },
      "execution_count": null,
      "outputs": []
    },
    {
      "cell_type": "markdown",
      "source": [
        ">> II - Mostrando a coluna de região com valores acima de 4."
      ],
      "metadata": {
        "id": "KB6uMLLsf8ou"
      }
    },
    {
      "cell_type": "code",
      "source": [
        "import pandas as pd\n",
        "\n",
        "arquivoDados = pd.read_csv('/content/world_alcohol.csv')\n",
        "\n",
        "# Filtrando os dados com valores de \"WHO region\" com comprimento superior a 4 caracteres\n",
        "regiaoFiltrada = arquivoDados[arquivoDados['WHO region'].str.len() > 4]['WHO region']\n",
        "\n",
        "# Exibindo a coluna \"WHO region\" com valores acima de 4 caracteres\n",
        "print(regiaoFiltrada)\n"
      ],
      "metadata": {
        "id": "30Sa2yk6f8gu",
        "colab": {
          "base_uri": "https://localhost:8080/"
        },
        "outputId": "327767d5-e5cf-459d-affb-300cfefa0202"
      },
      "execution_count": 34,
      "outputs": [
        {
          "output_type": "stream",
          "name": "stdout",
          "text": [
            "0     Western Pacific\n",
            "1            Americas\n",
            "2              Africa\n",
            "3            Americas\n",
            "4            Americas\n",
            "           ...       \n",
            "95             Africa\n",
            "96             Europe\n",
            "97    South-East Asia\n",
            "98             Africa\n",
            "99    South-East Asia\n",
            "Name: WHO region, Length: 100, dtype: object\n"
          ]
        }
      ]
    },
    {
      "cell_type": "markdown",
      "source": [
        "##### **QUESTÃO 02**"
      ],
      "metadata": {
        "id": "zFux_PSYLHH1"
      }
    },
    {
      "cell_type": "markdown",
      "source": [
        "Letra A\n",
        "\n",
        "*   Efetuando a limpeza das colunas de notas: onde tiver NaN (Not a Number), substituindo por 0,0\n",
        "\n"
      ],
      "metadata": {
        "id": "CCxoQ0ryLHwg"
      }
    },
    {
      "cell_type": "code",
      "source": [
        "import pandas as pd\n",
        "\n",
        "url = 'https://github.com/LuanJardim/DatasetProuni/raw/f9953a8fa7ce649b13ace3201f143250bbb3ce7a/cursos-prouni.csv'\n",
        "\n",
        "tabela = pd.read_csv(url)\n",
        "\n",
        "# Substituindo todos os \"NaN\" por 0.0 nas colunas de notas\n",
        "colunasNotas = ['nota_integral_ampla', 'nota_integral_cotas', 'nota_parcial_ampla', 'nota_parcial_cotas']\n",
        "tabela[colunasNotas] = tabela[colunasNotas].fillna(0.0)\n",
        "\n",
        "print(tabela)\n"
      ],
      "metadata": {
        "colab": {
          "base_uri": "https://localhost:8080/"
        },
        "id": "ooyRBk8cLIzj",
        "outputId": "da823f5d-7ba0-41d4-8370-15c58a552446"
      },
      "execution_count": 32,
      "outputs": [
        {
          "output_type": "stream",
          "name": "stdout",
          "text": [
            "               grau              turno  mensalidade  bolsa_integral_cotas  \\\n",
            "0       Bacharelado           Integral      9999.99                  15.0   \n",
            "1       Bacharelado            Noturno      9836.40                   1.0   \n",
            "2       Bacharelado           Integral      9715.61                   2.0   \n",
            "3       Bacharelado            Noturno      9689.34                   3.0   \n",
            "4       Bacharelado           Integral      9674.34                   4.0   \n",
            "...             ...                ...          ...                   ...   \n",
            "41442  Licenciatura  Curso a Distância       149.00                   1.0   \n",
            "41443   Tecnológico  Curso a Distância       144.00                   1.0   \n",
            "41444   Tecnológico         Vespertino       139.00                   1.0   \n",
            "41445   Bacharelado  Curso a Distância       139.00                   1.0   \n",
            "41446   Tecnológico  Curso a Distância       139.00                   3.0   \n",
            "\n",
            "       bolsa_integral_ampla  bolsa_parcial_cotas  bolsa_parcial_ampla  \\\n",
            "0                      14.0                  NaN                  NaN   \n",
            "1                       NaN                  NaN                  NaN   \n",
            "2                       5.0                  6.0                 10.0   \n",
            "3                       2.0                  NaN                  NaN   \n",
            "4                       1.0                  5.0                  2.0   \n",
            "...                     ...                  ...                  ...   \n",
            "41442                   NaN                  NaN                  NaN   \n",
            "41443                   2.0                  2.0                  5.0   \n",
            "41444                   NaN                  NaN                  NaN   \n",
            "41445                   NaN                  NaN                  NaN   \n",
            "41446                   1.0                  NaN                  NaN   \n",
            "\n",
            "              curso_id                 curso_busca          cidade_busca  \\\n",
            "0         706710394154                    Medicina          Campo Grande   \n",
            "1      104191210567043                  Enfermagem               Crateus   \n",
            "2        1002328574024                    Medicina             Sao Paulo   \n",
            "3      104191212798093                  Psicologia               Crateus   \n",
            "4       65899611932754                    Medicina            Rio Branco   \n",
            "...                ...                         ...                   ...   \n",
            "41442     994312865605                  Sociologia  Paraiso do Tocantins   \n",
            "41443   65868712869275                   Marketing           Sao VIcente   \n",
            "41444    1056445674232  Gestão de Recursos Humanos              Brasilia   \n",
            "41445      96781210935              Serviço Social               Vitoria   \n",
            "41446  200467412868575            Gestão Ambiental              Santarem   \n",
            "\n",
            "      uf_busca     cidade_filtro  \\\n",
            "0           MS  NTAwMjAwNDAyNzA0   \n",
            "1           CE  MjMwNDAxODA0MTAz   \n",
            "2           SP  MzUxNTA2MTUwMzA4   \n",
            "3           CE  MjMwNDAxODA0MTAz   \n",
            "4           AC  MTIwMjAwNDAwNDAx   \n",
            "...        ...               ...   \n",
            "41442       TO  MTcwMTAwNDE2MTA5   \n",
            "41443       SP  MzUxNTA2MzUxMDA5   \n",
            "41444       DF  NTMwMTAwMTAwMTA4   \n",
            "41445       ES  MzIwMzAwOTA1MzA5   \n",
            "41446       PA  MTUwMTAwMjA2ODA3   \n",
            "\n",
            "                                       universidade_nome  \\\n",
            "0                      Universidade Anhanguera - UNIDERP   \n",
            "1                      Faculdade Princesa do Oeste - FPO   \n",
            "2              Universidade Cidade de São Paulo - UNICID   \n",
            "3                      Faculdade Princesa do Oeste - FPO   \n",
            "4                    Faculdade Barão do Rio Branco - FAB   \n",
            "...                                                  ...   \n",
            "41442                       Universidade Paulista - UNIP   \n",
            "41443                     Faculdade de São VIcente - FSV   \n",
            "41444  Centro Universitário Planalto do Distrito Fede...   \n",
            "41445                       Universidade Paulista - UNIP   \n",
            "41446                       Universidade Paulista - UNIP   \n",
            "\n",
            "                                             campus_nome  campus_id  \\\n",
            "0                     CAMPO GRANDE - SEDE - Miguel Couto     706710   \n",
            "1                             UNIDADE SEDE - São Vicente    1041912   \n",
            "2      UNIVERSIDADE CIDADE DE SÃO PAULO - UNICID - SE...    1002328   \n",
            "3                             UNIDADE SEDE - São Vicente    1041912   \n",
            "4      CAMPUS  - RIO BRANCO - JARDIM EUROPA II - Jard...     658996   \n",
            "...                                                  ...        ...   \n",
            "41442                      PARAISO DO TOCANTINS - Centro       9943   \n",
            "41443                              UNIDADE SEDE - Centro     658687   \n",
            "41444  DF03 - UNIDADE BRASIL CENTRAL - Taguatinga Nor...    1056445   \n",
            "41445                         VITORIA I - Barro Vermelho       9678   \n",
            "41446                                  SANTARÉM - Fátima    2004674   \n",
            "\n",
            "                             nome  nota_integral_ampla  nota_integral_cotas  \\\n",
            "0                        Medicina               740.22               726.46   \n",
            "1                      Enfermagem               663.36                 0.00   \n",
            "2                        Medicina               739.62               738.08   \n",
            "3                      Psicologia               651.00               652.22   \n",
            "4                        Medicina               758.32               723.94   \n",
            "...                           ...                  ...                  ...   \n",
            "41442                  Sociologia               502.36                 0.00   \n",
            "41443                   Marketing               533.34               450.00   \n",
            "41444  Gestão de Recursos Humanos               580.76                 0.00   \n",
            "41445              Serviço Social               548.26                 0.00   \n",
            "41446            Gestão Ambiental               605.32               573.70   \n",
            "\n",
            "       nota_parcial_ampla  nota_parcial_cotas  \n",
            "0                    0.00                0.00  \n",
            "1                    0.00                0.00  \n",
            "2                  738.96              718.64  \n",
            "3                    0.00                0.00  \n",
            "4                  734.92              711.26  \n",
            "...                   ...                 ...  \n",
            "41442                0.00                0.00  \n",
            "41443              450.00              450.00  \n",
            "41444                0.00                0.00  \n",
            "41445                0.00                0.00  \n",
            "41446                0.00                0.00  \n",
            "\n",
            "[41447 rows x 20 columns]\n"
          ]
        }
      ]
    },
    {
      "cell_type": "markdown",
      "source": [
        "Letra B\n",
        "\n",
        "*   Agrupando os dados pelo grau\n",
        "\n",
        "\n"
      ],
      "metadata": {
        "id": "Ze9gak8rLO11"
      }
    },
    {
      "cell_type": "code",
      "source": [
        "import pandas as pd\n",
        "\n",
        "url = 'https://github.com/LuanJardim/DatasetProuni/raw/f9953a8fa7ce649b13ace3201f143250bbb3ce7a/cursos-prouni.csv'\n",
        "\n",
        "tabela = pd.read_csv(url)\n",
        "\n",
        "# Agrupando os dados pelo grau\n",
        "grupoGrau = tabela.groupby('grau')\n",
        "\n",
        "# Exibindo os dados\n",
        "for nomeGrupo, grupo in grupoGrau:\n",
        "    print(f\"Grau: {nomeGrupo}\")\n",
        "    print(grupo)\n",
        "\n"
      ],
      "metadata": {
        "id": "gxL8BLLKLPKS"
      },
      "execution_count": null,
      "outputs": []
    },
    {
      "cell_type": "markdown",
      "source": [
        "Letra C\n",
        "\n",
        "*   Agrupando os dados pelos cursos de matemática, medicina e pedagogia"
      ],
      "metadata": {
        "id": "uk1pkVAPLQEY"
      }
    },
    {
      "cell_type": "code",
      "source": [
        "import pandas as pd\n",
        "\n",
        "url = 'https://github.com/LuanJardim/DatasetProuni/raw/f9953a8fa7ce649b13ace3201f143250bbb3ce7a/cursos-prouni.csv'\n",
        "\n",
        "tabela = pd.read_csv(url)\n",
        "\n",
        "# Filtrando os registros pelos cursos de Matemática, Medicina e Pedagogia\n",
        "cursoInteresse = ['Matemática', 'Medicina', 'Pedagogia']\n",
        "tabelaFiltrada = tabela[tabela['curso_busca'].isin(cursoInteresse)]\n",
        "\n",
        "# Agrupando os dados pelos cursos\n",
        "grupoCurso = tabelaFiltrada.groupby('curso_busca')\n",
        "\n",
        "# Exibindo os dados\n",
        "for nomeGrupo, grupo in grupoCurso:\n",
        "    print(f\"Curso: {nomeGrupo}\")\n",
        "    print(grupo)\n"
      ],
      "metadata": {
        "id": "a8hgDsbWLQWh"
      },
      "execution_count": null,
      "outputs": []
    },
    {
      "cell_type": "markdown",
      "source": [
        "Letra D\n",
        "\n",
        "*   Agrupando os dados por Estado e obtenha a média de notas de corte por Estado."
      ],
      "metadata": {
        "id": "kooLj-vdLQot"
      }
    },
    {
      "cell_type": "code",
      "source": [
        "import pandas as pd\n",
        "\n",
        "url = 'https://github.com/LuanJardim/DatasetProuni/raw/f9953a8fa7ce649b13ace3201f143250bbb3ce7a/cursos-prouni.csv'\n",
        "\n",
        "tabela = pd.read_csv(url)\n",
        "\n",
        "# Substituindo todos os \"NaN\" por 0.0 nas colunas de notas\n",
        "colunaNotas = ['nota_integral_ampla', 'nota_integral_cotas', 'nota_parcial_ampla', 'nota_parcial_cotas']\n",
        "tabela[colunaNotas] = tabela[colunaNotas].fillna(0.0)\n",
        "\n",
        "# Agrupando os dados por Estado e calculando a média das notas de corte\n",
        "mediaNotasEstado = tabela.groupby('uf_busca')[colunaNotas].mean()\n",
        "\n",
        "# Exibindo a média das notas de corte por Estado\n",
        "print(mediaNotasEstado)\n"
      ],
      "metadata": {
        "id": "AS8glKfpLRCR"
      },
      "execution_count": null,
      "outputs": []
    },
    {
      "cell_type": "markdown",
      "source": [
        "  Letra E\n",
        "\n",
        "*  Agrupando os dados pelos cursos Tecnológicos\n"
      ],
      "metadata": {
        "id": "OONDU1NiLRVx"
      }
    },
    {
      "cell_type": "code",
      "source": [
        "import pandas as pd\n",
        "\n",
        "url = 'https://github.com/LuanJardim/DatasetProuni/raw/f9953a8fa7ce649b13ace3201f143250bbb3ce7a/cursos-prouni.csv'\n",
        "\n",
        "tabela = pd.read_csv(url)\n",
        "\n",
        "# Filtrando os registros pelos cursos tecnológicos\n",
        "tabelaTecnologicos = tabela[tabela['grau'] == 'Tecnológico']\n",
        "\n",
        "# Agrupando os dados pelos cursos tecnológicos\n",
        "grupoTecnologicos = tabelaTecnologicos.groupby('curso_busca')\n",
        "\n",
        "# Exibindo os dados\n",
        "for nomeGrupo, grupo in grupoTecnologicos:\n",
        "    print(f\"Curso Tecnológico: {nomeGrupo}\")\n",
        "    print(grupo)"
      ],
      "metadata": {
        "id": "IpHhdYl5LRtn"
      },
      "execution_count": null,
      "outputs": []
    },
    {
      "cell_type": "markdown",
      "source": [
        "Letra F\n",
        "\n",
        "*   Eliminando a coluna “cidade_filtro” do dataframe"
      ],
      "metadata": {
        "id": "P7x0nwj4LR_8"
      }
    },
    {
      "cell_type": "code",
      "source": [
        "import pandas as pd\n",
        "\n",
        "url = 'https://github.com/LuanJardim/DatasetProuni/raw/f9953a8fa7ce649b13ace3201f143250bbb3ce7a/cursos-prouni.csv'\n",
        "\n",
        "tabela = pd.read_csv(url)\n",
        "\n",
        "# Eliminando a coluna \"cidade_filtro\" do DataFrame\n",
        "tabela = tabela.drop('cidade_filtro', axis=1)\n",
        "\n",
        "# Exibindo o DataFrame atualizado (sem o campo \"cidade_filtro\")\n",
        "print(tabela)\n"
      ],
      "metadata": {
        "id": "Pd9qqbPxLSUx"
      },
      "execution_count": null,
      "outputs": []
    },
    {
      "cell_type": "markdown",
      "source": [
        "Letra G\n",
        "\n",
        "*   Apresentando a média das mensalidades dos cursos de Medicina"
      ],
      "metadata": {
        "id": "TE8rjsO0LSmw"
      }
    },
    {
      "cell_type": "code",
      "source": [
        "import pandas as pd\n",
        "\n",
        "url = 'https://github.com/LuanJardim/DatasetProuni/raw/f9953a8fa7ce649b13ace3201f143250bbb3ce7a/cursos-prouni.csv'\n",
        "\n",
        "tabela = pd.read_csv(url)\n",
        "\n",
        "# Filtrando os registros pelo curso de Medicina\n",
        "tabelaMedicina = tabela[tabela['curso_busca'] == 'Medicina']\n",
        "\n",
        "# Calculando a média das mensalidades dos cursos de Medicina\n",
        "mediaMensalidadeMedicina = tabelaMedicina['mensalidade'].mean()\n",
        "\n",
        "# Exibindo a média das mensalidades dos cursos de Medicina\n",
        "print(f\"Média das mensalidades dos cursos de Medicina: R$ {mediaMensalidadeMedicina:.2f}\")\n"
      ],
      "metadata": {
        "id": "8u6HzkfpLS5f"
      },
      "execution_count": null,
      "outputs": []
    },
    {
      "cell_type": "markdown",
      "source": [
        "Letra H\n",
        "\n",
        "*   Calculando a média das notas de corte dos cursos de tempo integral"
      ],
      "metadata": {
        "id": "ic5PEMIYLTLe"
      }
    },
    {
      "cell_type": "code",
      "source": [
        "import pandas as pd\n",
        "\n",
        "url = 'https://github.com/LuanJardim/DatasetProuni/raw/f9953a8fa7ce649b13ace3201f143250bbb3ce7a/cursos-prouni.csv'\n",
        "\n",
        "tabela = pd.read_csv(url)\n",
        "\n",
        "# Substituindo todos os \"NaN\" por 0.0 nas colunas de notas\n",
        "colunaNotas = ['nota_integral_ampla', 'nota_integral_cotas']\n",
        "tabela[colunaNotas] = tabela[colunaNotas].fillna(0.0)\n",
        "\n",
        "# Filtrando os registros pelos cursos de tempo integral\n",
        "tabelaTempoIntegral = tabela[tabela['turno'] == 'Integral']\n",
        "\n",
        "# Calculaando a média das notas de corte dos cursos de tempo integral\n",
        "mediaNotaTempoIntegral = tabelaTempoIntegral[colunaNotas].mean()\n",
        "\n",
        "# Exibindo a média das notas de corte dos cursos de tempo integral\n",
        "print(\"Média das notas de corte dos cursos de tempo integral:\")\n",
        "print(mediaNotaTempoIntegral)"
      ],
      "metadata": {
        "id": "b_s9SA9sLTnW"
      },
      "execution_count": null,
      "outputs": []
    },
    {
      "cell_type": "markdown",
      "source": [
        "Letra I\n",
        "\n",
        "*   Estatística Descritiva das Notas Integral Ampla dos cursos de Bacharelado\n"
      ],
      "metadata": {
        "id": "3ZU78H3ZLT-E"
      }
    },
    {
      "cell_type": "code",
      "source": [
        "import pandas as pd\n",
        "\n",
        "url = 'https://github.com/LuanJardim/DatasetProuni/raw/f9953a8fa7ce649b13ace3201f143250bbb3ce7a/cursos-prouni.csv'\n",
        "\n",
        "tabela = pd.read_csv(url)\n",
        "\n",
        "# Substituindo todos os \"NaN\" por 0.0 nas colunas de notas\n",
        "colunaNotas = ['nota_integral_ampla']\n",
        "tabela[colunaNotas] = tabela[colunaNotas].fillna(0.0)\n",
        "\n",
        "# Filtrando os registros pelos cursos de bacharelado\n",
        "tabelaBacharelado = tabela[tabela['grau'] == 'Bacharelado']\n",
        "\n",
        "# Obtendo as estatísticas descritivas das notas integral ampla dos cursos de bacharelado\n",
        "estatisticasDescritivas = tabelaBacharelado['nota_integral_ampla'].describe()\n",
        "\n",
        "# Exibindo as estatísticas descritivas\n",
        "print(\"Estatísticas descritivas das notas integral ampla dos cursos de bacharelado:\")\n",
        "print(estatisticasDescritivas)\n"
      ],
      "metadata": {
        "id": "Wct9i80ILUVG"
      },
      "execution_count": null,
      "outputs": []
    },
    {
      "cell_type": "markdown",
      "source": [
        "Letra J\n",
        "\n",
        "*   Gráfico comparativo entre o grau dos cursos\n",
        "pelas Notas Integral de Cotas."
      ],
      "metadata": {
        "id": "aCbSEDezLPfh"
      }
    },
    {
      "cell_type": "code",
      "source": [
        "import pandas as pd\n",
        "import matplotlib.pyplot as plt\n",
        "\n",
        "url = 'https://github.com/LuanJardim/DatasetProuni/raw/f9953a8fa7ce649b13ace3201f143250bbb3ce7a/cursos-prouni.csv'\n",
        "\n",
        "tabela = pd.read_csv(url)\n",
        "\n",
        "# Substituindo todos os \"NaN\" por 0.0 nas colunas de notas\n",
        "colunaNotas = ['nota_integral_cotas']\n",
        "tabela[colunaNotas] = tabela[colunaNotas].fillna(0.0)\n",
        "\n",
        "# Agrupando os dados pelo grau dos cursos e calculando a média das notas de cotas (integral)\n",
        "grau = tabela.groupby('grau')['nota_integral_cotas'].mean()\n",
        "\n",
        "# Criando o gráfico de barras comparativo\n",
        "plt.figure(figsize=(10, 6))\n",
        "grau.plot(kind='bar', color='blue')\n",
        "plt.title('Média das Notas Integral de Cotas por Grau dos Cursos')\n",
        "plt.xlabel('Grau dos Cursos')\n",
        "plt.ylabel('Média das Notas Integral de Cotas')\n",
        "plt.xticks(rotation=45)\n",
        "plt.show()\n"
      ],
      "metadata": {
        "id": "5nXYL6b4LPy2"
      },
      "execution_count": null,
      "outputs": []
    }
  ]
}